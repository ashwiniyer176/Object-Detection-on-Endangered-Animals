{
 "cells": [
  {
   "cell_type": "code",
   "execution_count": 1,
   "metadata": {},
   "outputs": [],
   "source": [
    "import numpy as np\n",
    "import pandas as pd\n",
    "import matplotlib.pyplot as plt"
   ]
  },
  {
   "cell_type": "code",
   "execution_count": 2,
   "metadata": {},
   "outputs": [],
   "source": [
    "df=pd.read_csv(\"./data/annotations/train.csv\")"
   ]
  },
  {
   "cell_type": "code",
   "execution_count": 3,
   "metadata": {},
   "outputs": [
    {
     "data": {
      "text/plain": [
       "Lizard        1200\n",
       "Snake          562\n",
       "Sparrow        475\n",
       "Tortoise       391\n",
       "Deer           327\n",
       "Tiger          313\n",
       "Shark          303\n",
       "Whale          287\n",
       "Starfish       248\n",
       "Rhinoceros     214\n",
       "Lion           208\n",
       "Zebra          181\n",
       "Elephant       155\n",
       "Cheetah        132\n",
       "Leopard        123\n",
       "Crocodile      108\n",
       "Jaguar         100\n",
       "Panda           91\n",
       "Bear            87\n",
       "Lynx            80\n",
       "Turtle          24\n",
       "Name: label, dtype: int64"
      ]
     },
     "execution_count": 3,
     "metadata": {},
     "output_type": "execute_result"
    }
   ],
   "source": [
    "df.label.value_counts()"
   ]
  },
  {
   "cell_type": "code",
   "execution_count": null,
   "metadata": {},
   "outputs": [],
   "source": []
  }
 ],
 "metadata": {
  "kernelspec": {
   "display_name": "Python 3.9.12 ('tf_gpu')",
   "language": "python",
   "name": "python3"
  },
  "language_info": {
   "codemirror_mode": {
    "name": "ipython",
    "version": 3
   },
   "file_extension": ".py",
   "mimetype": "text/x-python",
   "name": "python",
   "nbconvert_exporter": "python",
   "pygments_lexer": "ipython3",
   "version": "3.9.12"
  },
  "orig_nbformat": 4,
  "vscode": {
   "interpreter": {
    "hash": "197295b20122369b6502e224a1410f8bc9b22cbbcad42d16b957c3154cf64235"
   }
  }
 },
 "nbformat": 4,
 "nbformat_minor": 2
}
